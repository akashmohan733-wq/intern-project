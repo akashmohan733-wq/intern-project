{
  "nbformat": 4,
  "nbformat_minor": 0,
  "metadata": {
    "colab": {
      "provenance": []
    },
    "kernelspec": {
      "name": "python3",
      "display_name": "Python 3"
    },
    "language_info": {
      "name": "python"
    }
  },
  "cells": [
    {
      "cell_type": "code",
      "source": [
        "!pip install streamlit pyngrok pandas numpy scikit-learn"
      ],
      "metadata": {
        "colab": {
          "base_uri": "https://localhost:8080/"
        },
        "id": "Iq1ttjIWcwyJ",
        "outputId": "882dd26c-19ff-495c-eec0-1f79499a14d4"
      },
      "execution_count": 16,
      "outputs": [
        {
          "output_type": "stream",
          "name": "stdout",
          "text": [
            "Requirement already satisfied: streamlit in /usr/local/lib/python3.12/dist-packages (1.50.0)\n",
            "Requirement already satisfied: pyngrok in /usr/local/lib/python3.12/dist-packages (7.4.1)\n",
            "Requirement already satisfied: pandas in /usr/local/lib/python3.12/dist-packages (2.2.2)\n",
            "Requirement already satisfied: numpy in /usr/local/lib/python3.12/dist-packages (2.0.2)\n",
            "Requirement already satisfied: scikit-learn in /usr/local/lib/python3.12/dist-packages (1.6.1)\n",
            "Requirement already satisfied: altair!=5.4.0,!=5.4.1,<6,>=4.0 in /usr/local/lib/python3.12/dist-packages (from streamlit) (5.5.0)\n",
            "Requirement already satisfied: blinker<2,>=1.5.0 in /usr/local/lib/python3.12/dist-packages (from streamlit) (1.9.0)\n",
            "Requirement already satisfied: cachetools<7,>=4.0 in /usr/local/lib/python3.12/dist-packages (from streamlit) (5.5.2)\n",
            "Requirement already satisfied: click<9,>=7.0 in /usr/local/lib/python3.12/dist-packages (from streamlit) (8.3.0)\n",
            "Requirement already satisfied: packaging<26,>=20 in /usr/local/lib/python3.12/dist-packages (from streamlit) (25.0)\n",
            "Requirement already satisfied: pillow<12,>=7.1.0 in /usr/local/lib/python3.12/dist-packages (from streamlit) (11.3.0)\n",
            "Requirement already satisfied: protobuf<7,>=3.20 in /usr/local/lib/python3.12/dist-packages (from streamlit) (5.29.5)\n",
            "Requirement already satisfied: pyarrow>=7.0 in /usr/local/lib/python3.12/dist-packages (from streamlit) (18.1.0)\n",
            "Requirement already satisfied: requests<3,>=2.27 in /usr/local/lib/python3.12/dist-packages (from streamlit) (2.32.4)\n",
            "Requirement already satisfied: tenacity<10,>=8.1.0 in /usr/local/lib/python3.12/dist-packages (from streamlit) (8.5.0)\n",
            "Requirement already satisfied: toml<2,>=0.10.1 in /usr/local/lib/python3.12/dist-packages (from streamlit) (0.10.2)\n",
            "Requirement already satisfied: typing-extensions<5,>=4.4.0 in /usr/local/lib/python3.12/dist-packages (from streamlit) (4.15.0)\n",
            "Requirement already satisfied: watchdog<7,>=2.1.5 in /usr/local/lib/python3.12/dist-packages (from streamlit) (6.0.0)\n",
            "Requirement already satisfied: gitpython!=3.1.19,<4,>=3.0.7 in /usr/local/lib/python3.12/dist-packages (from streamlit) (3.1.45)\n",
            "Requirement already satisfied: pydeck<1,>=0.8.0b4 in /usr/local/lib/python3.12/dist-packages (from streamlit) (0.9.1)\n",
            "Requirement already satisfied: tornado!=6.5.0,<7,>=6.0.3 in /usr/local/lib/python3.12/dist-packages (from streamlit) (6.5.1)\n",
            "Requirement already satisfied: PyYAML>=5.1 in /usr/local/lib/python3.12/dist-packages (from pyngrok) (6.0.3)\n",
            "Requirement already satisfied: python-dateutil>=2.8.2 in /usr/local/lib/python3.12/dist-packages (from pandas) (2.9.0.post0)\n",
            "Requirement already satisfied: pytz>=2020.1 in /usr/local/lib/python3.12/dist-packages (from pandas) (2025.2)\n",
            "Requirement already satisfied: tzdata>=2022.7 in /usr/local/lib/python3.12/dist-packages (from pandas) (2025.2)\n",
            "Requirement already satisfied: scipy>=1.6.0 in /usr/local/lib/python3.12/dist-packages (from scikit-learn) (1.16.2)\n",
            "Requirement already satisfied: joblib>=1.2.0 in /usr/local/lib/python3.12/dist-packages (from scikit-learn) (1.5.2)\n",
            "Requirement already satisfied: threadpoolctl>=3.1.0 in /usr/local/lib/python3.12/dist-packages (from scikit-learn) (3.6.0)\n",
            "Requirement already satisfied: jinja2 in /usr/local/lib/python3.12/dist-packages (from altair!=5.4.0,!=5.4.1,<6,>=4.0->streamlit) (3.1.6)\n",
            "Requirement already satisfied: jsonschema>=3.0 in /usr/local/lib/python3.12/dist-packages (from altair!=5.4.0,!=5.4.1,<6,>=4.0->streamlit) (4.25.1)\n",
            "Requirement already satisfied: narwhals>=1.14.2 in /usr/local/lib/python3.12/dist-packages (from altair!=5.4.0,!=5.4.1,<6,>=4.0->streamlit) (2.9.0)\n",
            "Requirement already satisfied: gitdb<5,>=4.0.1 in /usr/local/lib/python3.12/dist-packages (from gitpython!=3.1.19,<4,>=3.0.7->streamlit) (4.0.12)\n",
            "Requirement already satisfied: six>=1.5 in /usr/local/lib/python3.12/dist-packages (from python-dateutil>=2.8.2->pandas) (1.17.0)\n",
            "Requirement already satisfied: charset_normalizer<4,>=2 in /usr/local/lib/python3.12/dist-packages (from requests<3,>=2.27->streamlit) (3.4.4)\n",
            "Requirement already satisfied: idna<4,>=2.5 in /usr/local/lib/python3.12/dist-packages (from requests<3,>=2.27->streamlit) (3.11)\n",
            "Requirement already satisfied: urllib3<3,>=1.21.1 in /usr/local/lib/python3.12/dist-packages (from requests<3,>=2.27->streamlit) (2.5.0)\n",
            "Requirement already satisfied: certifi>=2017.4.17 in /usr/local/lib/python3.12/dist-packages (from requests<3,>=2.27->streamlit) (2025.10.5)\n",
            "Requirement already satisfied: smmap<6,>=3.0.1 in /usr/local/lib/python3.12/dist-packages (from gitdb<5,>=4.0.1->gitpython!=3.1.19,<4,>=3.0.7->streamlit) (5.0.2)\n",
            "Requirement already satisfied: MarkupSafe>=2.0 in /usr/local/lib/python3.12/dist-packages (from jinja2->altair!=5.4.0,!=5.4.1,<6,>=4.0->streamlit) (3.0.3)\n",
            "Requirement already satisfied: attrs>=22.2.0 in /usr/local/lib/python3.12/dist-packages (from jsonschema>=3.0->altair!=5.4.0,!=5.4.1,<6,>=4.0->streamlit) (25.4.0)\n",
            "Requirement already satisfied: jsonschema-specifications>=2023.03.6 in /usr/local/lib/python3.12/dist-packages (from jsonschema>=3.0->altair!=5.4.0,!=5.4.1,<6,>=4.0->streamlit) (2025.9.1)\n",
            "Requirement already satisfied: referencing>=0.28.4 in /usr/local/lib/python3.12/dist-packages (from jsonschema>=3.0->altair!=5.4.0,!=5.4.1,<6,>=4.0->streamlit) (0.37.0)\n",
            "Requirement already satisfied: rpds-py>=0.7.1 in /usr/local/lib/python3.12/dist-packages (from jsonschema>=3.0->altair!=5.4.0,!=5.4.1,<6,>=4.0->streamlit) (0.27.1)\n"
          ]
        }
      ]
    },
    {
      "cell_type": "code",
      "source": [
        "# ==========================================\n",
        "# 🏠 HOUSE PRICE PREDICTION APP (Colab Final – Random Forest + HouseAge)\n",
        "# ==========================================\n",
        "\n",
        "import pandas as pd, numpy as np\n",
        "from sklearn.model_selection import train_test_split\n",
        "from sklearn.ensemble import RandomForestRegressor\n",
        "from sklearn.metrics import mean_absolute_error, mean_squared_error, r2_score\n",
        "from sklearn.preprocessing import OneHotEncoder\n",
        "from sklearn.impute import SimpleImputer\n",
        "from sklearn.pipeline import Pipeline\n",
        "from pyngrok import ngrok\n",
        "import streamlit as st\n",
        "\n",
        "# ---------------- Streamlit code ----------------\n",
        "code = r'''\n",
        "import pandas as pd, numpy as np\n",
        "from sklearn.model_selection import train_test_split\n",
        "from sklearn.ensemble import RandomForestRegressor\n",
        "from sklearn.metrics import mean_absolute_error, mean_squared_error, r2_score\n",
        "from sklearn.preprocessing import OneHotEncoder\n",
        "from sklearn.impute import SimpleImputer\n",
        "from sklearn.pipeline import Pipeline\n",
        "import streamlit as st\n",
        "\n",
        "@st.cache_data\n",
        "def load_data():\n",
        "    return pd.read_csv(\"housing_price_dataset.csv\")\n",
        "\n",
        "df = load_data()\n",
        "st.title(\"🏡 House Price Prediction (Random Forest + House Age)\")\n",
        "st.write(\"Predict house prices more accurately with Random Forest!\")\n",
        "\n",
        "# ---- Clean & Prepare ----\n",
        "df = df[df[\"Price\"] > 0].dropna(subset=[\"Price\"]).reset_index(drop=True)\n",
        "df[\"HouseAge\"] = 2025 - df[\"YearBuilt\"]\n",
        "df = df.drop(columns=[\"YearBuilt\"])\n",
        "\n",
        "encoder = OneHotEncoder(drop=\"first\", sparse_output=False)\n",
        "encoded = encoder.fit_transform(df[[\"Neighborhood\"]])\n",
        "encoded_df = pd.DataFrame(encoded, columns=encoder.get_feature_names_out([\"Neighborhood\"]))\n",
        "df_encoded = pd.concat([df.drop(columns=[\"Neighborhood\"]), encoded_df], axis=1)\n",
        "\n",
        "# ---- Split & Train ----\n",
        "X = df_encoded.drop(columns=[\"Price\"])\n",
        "y = df_encoded[\"Price\"]\n",
        "\n",
        "X_train, X_test, y_train, y_test = train_test_split(X, y, test_size=0.2, random_state=42)\n",
        "\n",
        "model = Pipeline([\n",
        "    (\"imputer\", SimpleImputer(strategy=\"median\")),\n",
        "    (\"regressor\", RandomForestRegressor(n_estimators=200, random_state=42))\n",
        "])\n",
        "model.fit(X_train, y_train)\n",
        "\n",
        "# ---- Evaluate ----\n",
        "y_pred = model.predict(X_test)\n",
        "mae, rmse = mean_absolute_error(y_test, y_pred), np.sqrt(mean_squared_error(y_test, y_pred))\n",
        "r2 = r2_score(y_test, y_pred)\n",
        "\n",
        "st.subheader(\"📊 Model Performance\")\n",
        "st.write(f\"MAE: {mae:.2f}\")\n",
        "st.write(f\"RMSE: {rmse:.2f}\")\n",
        "st.write(f\"R² Score: {r2:.2f}\")\n",
        "\n",
        "# ---- Prediction UI ----\n",
        "st.subheader(\"🧮 Predict Your Own House Price\")\n",
        "\n",
        "sqft = st.number_input(\"Square Feet\", 500, 10000, 1500)\n",
        "bed  = st.number_input(\"Bedrooms\", 1, 10, 3)\n",
        "bath = st.number_input(\"Bathrooms\", 1, 10, 2)\n",
        "year = st.slider(\"Year Built\", 1900, 2025, 2015)\n",
        "neigh = st.selectbox(\"Neighborhood\", encoder.categories_[0])\n",
        "\n",
        "age = 2025 - year\n",
        "inp = pd.DataFrame({\n",
        "    \"SquareFeet\":[sqft],\n",
        "    \"Bedrooms\":[bed],\n",
        "    \"Bathrooms\":[bath],\n",
        "    \"HouseAge\":[age],\n",
        "    \"Neighborhood\":[neigh]\n",
        "})\n",
        "\n",
        "enc_inp = encoder.transform(inp[[\"Neighborhood\"]])\n",
        "enc_inp_df = pd.DataFrame(enc_inp, columns=encoder.get_feature_names_out([\"Neighborhood\"]))\n",
        "final_inp = pd.concat([inp.drop(columns=[\"Neighborhood\"]), enc_inp_df], axis=1)\n",
        "for c in set(X.columns) - set(final_inp.columns): final_inp[c] = 0\n",
        "final_inp = final_inp[X.columns]\n",
        "\n",
        "if st.button(\"Predict Price\"):\n",
        "    pred = model.predict(final_inp)[0]\n",
        "    st.success(f\"💰 Predicted Price: ${pred:,.2f}\")\n",
        "'''\n",
        "\n",
        "# Save app\n",
        "with open(\"app.py\", \"w\") as f: f.write(code)\n",
        "\n",
        "# ---- Start Streamlit via ngrok ----\n",
        "ngrok.kill()          # prevents “too many tunnels” errors\n",
        "public_url = ngrok.connect(8501)\n",
        "print(\"🔗 Your Streamlit app is live here:\", public_url)\n",
        "!streamlit run app.py &>/dev/null &\n"
      ],
      "metadata": {
        "colab": {
          "base_uri": "https://localhost:8080/"
        },
        "id": "WbD-hAXTfeFJ",
        "outputId": "7f63a387-d56e-4fbb-a566-b2ef6649c156"
      },
      "execution_count": 18,
      "outputs": [
        {
          "output_type": "stream",
          "name": "stdout",
          "text": [
            "🔗 Your Streamlit app is live here: NgrokTunnel: \"https://4fa229492b3b.ngrok-free.app\" -> \"http://localhost:8501\"\n"
          ]
        }
      ]
    }
  ]
}